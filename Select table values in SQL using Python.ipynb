{
 "cells": [
  {
   "cell_type": "code",
   "execution_count": 1,
   "id": "18e09900",
   "metadata": {},
   "outputs": [],
   "source": [
    "import pyodbc\n",
    "conn = pyodbc.connect('Driver={SQL Server};'\n",
    "                      'Server=MSI\\MSSQLSERVER01;'\n",
    "                      'Database=AdventureWorks2019;'\n",
    "                      'Trusted_Connection=yes;')\n",
    "\n",
    "cursor = conn.cursor()"
   ]
  },
  {
   "cell_type": "code",
   "execution_count": 2,
   "id": "75058810",
   "metadata": {},
   "outputs": [
    {
     "data": {
      "text/plain": [
       "<pyodbc.Cursor at 0x2522d5e09b0>"
      ]
     },
     "execution_count": 2,
     "metadata": {},
     "output_type": "execute_result"
    }
   ],
   "source": [
    "sql = \"\"\" SELECT top 5 * FROM [Person].[Person] where Title is not null \"\"\"\n",
    "cursor.execute(sql)"
   ]
  },
  {
   "cell_type": "code",
   "execution_count": 3,
   "id": "ca933dae",
   "metadata": {},
   "outputs": [
    {
     "name": "stdout",
     "output_type": "stream",
     "text": [
      "(5, 'EM', False, 'Ms.', 'Gail', 'A', 'Erickson', None, 0, None, '<IndividualSurvey xmlns=\"http://schemas.microsoft.com/sqlserver/2004/07/adventure-works/IndividualSurvey\"><TotalPurchaseYTD>0</TotalPurchaseYTD></IndividualSurvey>', 'F3A3F6B4-AE3B-430C-A754-9F2231BA6FEF', datetime.datetime(2007, 12, 30, 0, 0))\n",
      "(6, 'EM', False, 'Mr.', 'Jossef', 'H', 'Goldberg', None, 0, None, '<IndividualSurvey xmlns=\"http://schemas.microsoft.com/sqlserver/2004/07/adventure-works/IndividualSurvey\"><TotalPurchaseYTD>0</TotalPurchaseYTD></IndividualSurvey>', '0DEA28FD-EFFE-482A-AFD3-B7E8F199D56F', datetime.datetime(2013, 12, 16, 0, 0))\n",
      "(13, 'EM', False, 'Ms.', 'Janice', 'M', 'Galvin', None, 2, None, '<IndividualSurvey xmlns=\"http://schemas.microsoft.com/sqlserver/2004/07/adventure-works/IndividualSurvey\"><TotalPurchaseYTD>0</TotalPurchaseYTD></IndividualSurvey>', '34EB99E0-7042-4DC1-A2FD-BDA290FF0E07', datetime.datetime(2010, 12, 16, 0, 0))\n",
      "(24, 'EM', False, 'Ms.', 'Jill', 'A', 'Williams', None, 0, None, '<IndividualSurvey xmlns=\"http://schemas.microsoft.com/sqlserver/2004/07/adventure-works/IndividualSurvey\"><TotalPurchaseYTD>0</TotalPurchaseYTD></IndividualSurvey>', '3F605060-96AD-4201-9BE2-BFE7A3C4E468', datetime.datetime(2009, 1, 11, 0, 0))\n",
      "(139, 'EM', False, 'Mr.', 'Hung-Fu', 'T', 'Ting', None, 0, None, '<IndividualSurvey xmlns=\"http://schemas.microsoft.com/sqlserver/2004/07/adventure-works/IndividualSurvey\"><TotalPurchaseYTD>0</TotalPurchaseYTD></IndividualSurvey>', '739C7553-13E5-4F36-86F6-4775645547AE', datetime.datetime(2009, 12, 30, 0, 0))\n"
     ]
    }
   ],
   "source": [
    "for i in cursor:\n",
    "    print(i)"
   ]
  },
  {
   "cell_type": "code",
   "execution_count": 4,
   "id": "2a091e68",
   "metadata": {},
   "outputs": [
    {
     "name": "stdout",
     "output_type": "stream",
     "text": [
      "(6, 'EM', False, 'Mr.', 'Jossef', 'H', 'Goldberg', None, 0, None, '<IndividualSurvey xmlns=\"http://schemas.microsoft.com/sqlserver/2004/07/adventure-works/IndividualSurvey\"><TotalPurchaseYTD>0</TotalPurchaseYTD></IndividualSurvey>', '0DEA28FD-EFFE-482A-AFD3-B7E8F199D56F', datetime.datetime(2013, 12, 16, 0, 0))\n",
      "(139, 'EM', False, 'Mr.', 'Hung-Fu', 'T', 'Ting', None, 0, None, '<IndividualSurvey xmlns=\"http://schemas.microsoft.com/sqlserver/2004/07/adventure-works/IndividualSurvey\"><TotalPurchaseYTD>0</TotalPurchaseYTD></IndividualSurvey>', '739C7553-13E5-4F36-86F6-4775645547AE', datetime.datetime(2009, 12, 30, 0, 0))\n",
      "(273, 'EM', False, 'Mr.', 'Brian', 'S', 'Welcker', None, 0, None, '<IndividualSurvey xmlns=\"http://schemas.microsoft.com/sqlserver/2004/07/adventure-works/IndividualSurvey\"><TotalPurchaseYTD>0</TotalPurchaseYTD></IndividualSurvey>', '0950A366-1EEE-4516-86E0-6F2F94CE1046', datetime.datetime(2011, 2, 8, 0, 0))\n",
      "(284, 'SP', False, 'Mr.', 'Tete', 'A', 'Mensa-Annan', None, 1, None, '<IndividualSurvey xmlns=\"http://schemas.microsoft.com/sqlserver/2004/07/adventure-works/IndividualSurvey\"><TotalPurchaseYTD>0</TotalPurchaseYTD></IndividualSurvey>', 'F5BED54C-DF64-402C-93BD-7CFD1F79DEEE', datetime.datetime(2012, 9, 23, 0, 0))\n",
      "(285, 'SP', False, 'Mr.', 'Syed', 'E', 'Abbas', None, 0, None, '<IndividualSurvey xmlns=\"http://schemas.microsoft.com/sqlserver/2004/07/adventure-works/IndividualSurvey\"><TotalPurchaseYTD>0</TotalPurchaseYTD></IndividualSurvey>', 'FF284881-01C2-4C77-95A7-4DB96F59BB70', datetime.datetime(2013, 3, 7, 0, 0))\n"
     ]
    }
   ],
   "source": [
    "sql = ''' SELECT top 5 * FROM [Person].[Person] where Title ='Mr.' '''\n",
    "cursor.execute(sql)\n",
    "\n",
    "for i in cursor:\n",
    "    print(i)"
   ]
  },
  {
   "cell_type": "code",
   "execution_count": 5,
   "id": "50af8f66",
   "metadata": {},
   "outputs": [
    {
     "name": "stdout",
     "output_type": "stream",
     "text": [
      "('Mr. Jossef H Goldberg', 6, 'EM', False, 'Mr.', 'Jossef', 'H', 'Goldberg', None, 0, None, '<IndividualSurvey xmlns=\"http://schemas.microsoft.com/sqlserver/2004/07/adventure-works/IndividualSurvey\"><TotalPurchaseYTD>0</TotalPurchaseYTD></IndividualSurvey>', '0DEA28FD-EFFE-482A-AFD3-B7E8F199D56F', datetime.datetime(2013, 12, 16, 0, 0))\n",
      "('Mr. Hung-Fu T Ting', 139, 'EM', False, 'Mr.', 'Hung-Fu', 'T', 'Ting', None, 0, None, '<IndividualSurvey xmlns=\"http://schemas.microsoft.com/sqlserver/2004/07/adventure-works/IndividualSurvey\"><TotalPurchaseYTD>0</TotalPurchaseYTD></IndividualSurvey>', '739C7553-13E5-4F36-86F6-4775645547AE', datetime.datetime(2009, 12, 30, 0, 0))\n",
      "('Mr. Brian S Welcker', 273, 'EM', False, 'Mr.', 'Brian', 'S', 'Welcker', None, 0, None, '<IndividualSurvey xmlns=\"http://schemas.microsoft.com/sqlserver/2004/07/adventure-works/IndividualSurvey\"><TotalPurchaseYTD>0</TotalPurchaseYTD></IndividualSurvey>', '0950A366-1EEE-4516-86E0-6F2F94CE1046', datetime.datetime(2011, 2, 8, 0, 0))\n",
      "('Mr. Tete A Mensa-Annan', 284, 'SP', False, 'Mr.', 'Tete', 'A', 'Mensa-Annan', None, 1, None, '<IndividualSurvey xmlns=\"http://schemas.microsoft.com/sqlserver/2004/07/adventure-works/IndividualSurvey\"><TotalPurchaseYTD>0</TotalPurchaseYTD></IndividualSurvey>', 'F5BED54C-DF64-402C-93BD-7CFD1F79DEEE', datetime.datetime(2012, 9, 23, 0, 0))\n",
      "('Mr. Syed E Abbas', 285, 'SP', False, 'Mr.', 'Syed', 'E', 'Abbas', None, 0, None, '<IndividualSurvey xmlns=\"http://schemas.microsoft.com/sqlserver/2004/07/adventure-works/IndividualSurvey\"><TotalPurchaseYTD>0</TotalPurchaseYTD></IndividualSurvey>', 'FF284881-01C2-4C77-95A7-4DB96F59BB70', datetime.datetime(2013, 3, 7, 0, 0))\n"
     ]
    }
   ],
   "source": [
    "sql = ''' SELECT top 5 Title + ' ' + FirstName + ' ' + MiddleName + ' ' + LastName as name, * FROM [Person].[Person] \n",
    "where Title ='Mr.' '''\n",
    "cursor.execute(sql)\n",
    "\n",
    "for i in cursor:\n",
    "    print(i)"
   ]
  },
  {
   "cell_type": "code",
   "execution_count": 7,
   "id": "5f16e562",
   "metadata": {},
   "outputs": [
    {
     "name": "stdout",
     "output_type": "stream",
     "text": [
      "('Sr.', 11)\n",
      "('Mrs.', 2)\n",
      "(None, 18963)\n",
      "('Sra.', 3)\n",
      "('Ms.', 415)\n",
      "('Ms', 1)\n",
      "('Mr.', 577)\n"
     ]
    }
   ],
   "source": [
    "sql = ''' SELECT distinct Title, COUNT(1) as totalcount FROM [Person].[Person] group by Title  '''\n",
    "cursor.execute(sql)\n",
    "\n",
    "for i in cursor:\n",
    "    print(i)"
   ]
  },
  {
   "cell_type": "code",
   "execution_count": 8,
   "id": "401ed76b",
   "metadata": {},
   "outputs": [],
   "source": [
    "import pandas as pd"
   ]
  },
  {
   "cell_type": "code",
   "execution_count": 9,
   "id": "3d0b837a",
   "metadata": {},
   "outputs": [
    {
     "name": "stdout",
     "output_type": "stream",
     "text": [
      "                     name  BusinessEntityID PersonType  NameStyle Title  \\\n",
      "0   Mr. Jossef H Goldberg                 6         EM      False   Mr.   \n",
      "1      Mr. Hung-Fu T Ting               139         EM      False   Mr.   \n",
      "2     Mr. Brian S Welcker               273         EM      False   Mr.   \n",
      "3  Mr. Tete A Mensa-Annan               284         SP      False   Mr.   \n",
      "4        Mr. Syed E Abbas               285         SP      False   Mr.   \n",
      "\n",
      "  FirstName MiddleName     LastName Suffix  EmailPromotion  \\\n",
      "0    Jossef          H     Goldberg   None               0   \n",
      "1   Hung-Fu          T         Ting   None               0   \n",
      "2     Brian          S      Welcker   None               0   \n",
      "3      Tete          A  Mensa-Annan   None               1   \n",
      "4      Syed          E        Abbas   None               0   \n",
      "\n",
      "  AdditionalContactInfo                                       Demographics  \\\n",
      "0                  None  <IndividualSurvey xmlns=\"http://schemas.micros...   \n",
      "1                  None  <IndividualSurvey xmlns=\"http://schemas.micros...   \n",
      "2                  None  <IndividualSurvey xmlns=\"http://schemas.micros...   \n",
      "3                  None  <IndividualSurvey xmlns=\"http://schemas.micros...   \n",
      "4                  None  <IndividualSurvey xmlns=\"http://schemas.micros...   \n",
      "\n",
      "                                rowguid ModifiedDate  \n",
      "0  0DEA28FD-EFFE-482A-AFD3-B7E8F199D56F   2013-12-16  \n",
      "1  739C7553-13E5-4F36-86F6-4775645547AE   2009-12-30  \n",
      "2  0950A366-1EEE-4516-86E0-6F2F94CE1046   2011-02-08  \n",
      "3  F5BED54C-DF64-402C-93BD-7CFD1F79DEEE   2012-09-23  \n",
      "4  FF284881-01C2-4C77-95A7-4DB96F59BB70   2013-03-07  \n"
     ]
    }
   ],
   "source": [
    "sql = ''' SELECT top 5 Title + ' ' + FirstName + ' ' + MiddleName + ' ' + LastName as name, * FROM [Person].[Person] \n",
    "where Title ='Mr.' '''\n",
    "df = pd.read_sql_query(sql,conn)\n",
    "print(df)"
   ]
  },
  {
   "cell_type": "code",
   "execution_count": null,
   "id": "c4449130",
   "metadata": {},
   "outputs": [],
   "source": []
  }
 ],
 "metadata": {
  "kernelspec": {
   "display_name": "Python 3",
   "language": "python",
   "name": "python3"
  },
  "language_info": {
   "codemirror_mode": {
    "name": "ipython",
    "version": 3
   },
   "file_extension": ".py",
   "mimetype": "text/x-python",
   "name": "python",
   "nbconvert_exporter": "python",
   "pygments_lexer": "ipython3",
   "version": "3.6.9"
  }
 },
 "nbformat": 4,
 "nbformat_minor": 5
}
