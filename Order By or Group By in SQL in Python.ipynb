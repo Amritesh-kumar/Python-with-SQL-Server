{
 "cells": [
  {
   "cell_type": "code",
   "execution_count": 1,
   "id": "f65d3aef",
   "metadata": {},
   "outputs": [],
   "source": [
    "import pyodbc\n",
    "conn = pyodbc.connect('Driver={SQL Server};'\n",
    "                      'Server=MSI\\MSSQLSERVER01;'\n",
    "                      'Database=PythonSQL;'\n",
    "                      'Trusted_Connection=yes;')\n",
    "cursor = conn.cursor()"
   ]
  },
  {
   "cell_type": "code",
   "execution_count": 2,
   "id": "1960b8ae",
   "metadata": {},
   "outputs": [
    {
     "name": "stdout",
     "output_type": "stream",
     "text": [
      "('Krishna             ', 'Sharma              ', 19, 'M', 2000.0)\n",
      "('Raj                 ', 'Kandukuri           ', 20, 'M', 7000.0)\n",
      "('a                   ', 'b                   ', 23, None, 10000.0)\n",
      "('Ramya               ', 'Ramapriya           ', 25, 'F', 5000.0)\n",
      "('Mac                 ', 'Mohan               ', 26, 'M', 2000.0)\n",
      "('abc                 ', 'XYZ                 ', 45, None, None)\n"
     ]
    }
   ],
   "source": [
    "sql = \"\"\" select * from employee order by age\"\"\"\n",
    "cursor.execute(sql)\n",
    "for i in cursor :\n",
    "    print(i)"
   ]
  },
  {
   "cell_type": "code",
   "execution_count": 3,
   "id": "647423be",
   "metadata": {},
   "outputs": [
    {
     "name": "stdout",
     "output_type": "stream",
     "text": [
      "('Krishna             ', 'Sharma              ', 19, 'M', 2000.0)\n",
      "('Raj                 ', 'Kandukuri           ', 20, 'M', 7000.0)\n",
      "('a                   ', 'b                   ', 23, None, 10000.0)\n",
      "('Ramya               ', 'Ramapriya           ', 25, 'F', 5000.0)\n",
      "('Mac                 ', 'Mohan               ', 26, 'M', 2000.0)\n",
      "('abc                 ', 'XYZ                 ', 45, None, None)\n"
     ]
    }
   ],
   "source": [
    "sql = \"\"\" select * from employee order by age asc\"\"\"\n",
    "cursor.execute(sql)\n",
    "for i in cursor :\n",
    "    print(i)"
   ]
  },
  {
   "cell_type": "code",
   "execution_count": 4,
   "id": "729af418",
   "metadata": {},
   "outputs": [
    {
     "name": "stdout",
     "output_type": "stream",
     "text": [
      "('abc                 ', 'XYZ                 ', 45, None, None)\n",
      "('Mac                 ', 'Mohan               ', 26, 'M', 2000.0)\n",
      "('Ramya               ', 'Ramapriya           ', 25, 'F', 5000.0)\n",
      "('a                   ', 'b                   ', 23, None, 10000.0)\n",
      "('Raj                 ', 'Kandukuri           ', 20, 'M', 7000.0)\n",
      "('Krishna             ', 'Sharma              ', 19, 'M', 2000.0)\n"
     ]
    }
   ],
   "source": [
    "sql = \"\"\" select * from employee order by age desc\"\"\"\n",
    "cursor.execute(sql)\n",
    "for i in cursor :\n",
    "    print(i)"
   ]
  },
  {
   "cell_type": "code",
   "execution_count": 5,
   "id": "3e2e2de3",
   "metadata": {},
   "outputs": [
    {
     "name": "stdout",
     "output_type": "stream",
     "text": [
      "(None, 2)\n",
      "('F', 1)\n",
      "('M', 3)\n"
     ]
    }
   ],
   "source": [
    "sql = \"\"\" select SEX, count(1) from employee group by SEX\"\"\"\n",
    "cursor.execute(sql)\n",
    "for i in cursor :\n",
    "    print(i)"
   ]
  },
  {
   "cell_type": "code",
   "execution_count": null,
   "id": "e2b147eb",
   "metadata": {},
   "outputs": [],
   "source": []
  }
 ],
 "metadata": {
  "kernelspec": {
   "display_name": "Python 3",
   "language": "python",
   "name": "python3"
  },
  "language_info": {
   "codemirror_mode": {
    "name": "ipython",
    "version": 3
   },
   "file_extension": ".py",
   "mimetype": "text/x-python",
   "name": "python",
   "nbconvert_exporter": "python",
   "pygments_lexer": "ipython3",
   "version": "3.6.9"
  }
 },
 "nbformat": 4,
 "nbformat_minor": 5
}
