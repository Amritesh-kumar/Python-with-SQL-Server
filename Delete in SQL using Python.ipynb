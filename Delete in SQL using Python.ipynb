{
 "cells": [
  {
   "cell_type": "code",
   "execution_count": 1,
   "id": "a9f904b0",
   "metadata": {},
   "outputs": [],
   "source": [
    "import pyodbc\n",
    "conn = pyodbc.connect('Driver={SQL Server};'\n",
    "                      'Server=MSI\\MSSQLSERVER01;'\n",
    "                      'Database=AdventureWorks2019;'\n",
    "                      'Trusted_Connection=yes;')\n",
    "\n",
    "cursor = conn.cursor()"
   ]
  },
  {
   "cell_type": "code",
   "execution_count": 2,
   "id": "89b5b476",
   "metadata": {},
   "outputs": [
    {
     "data": {
      "text/plain": [
       "<pyodbc.Cursor at 0x1c0878e19b0>"
      ]
     },
     "execution_count": 2,
     "metadata": {},
     "output_type": "execute_result"
    }
   ],
   "source": [
    "cursor.execute(\"\"\"use PythonSQL\"\"\")"
   ]
  },
  {
   "cell_type": "code",
   "execution_count": null,
   "id": "516dae8f",
   "metadata": {},
   "outputs": [],
   "source": [
    "sql = \"\"\" Delete from Employee where FIRST_NAME = 'a'\"\"\"\n",
    "cursor.execute(sql)"
   ]
  },
  {
   "cell_type": "code",
   "execution_count": 3,
   "id": "7230e717",
   "metadata": {},
   "outputs": [
    {
     "name": "stdout",
     "output_type": "stream",
     "text": [
      "('abc                 ', 'XYZ                 ', 45, None, None)\n",
      "('a                   ', 'b                   ', 23, None, 10000.0)\n",
      "('Krishna             ', 'Sharma              ', 19, 'M', 2000.0)\n",
      "('Raj                 ', 'Kandukuri           ', 20, 'M', 7000.0)\n",
      "('Ramya               ', 'Ramapriya           ', 25, 'F', 5000.0)\n",
      "('Mac                 ', 'Mohan               ', 26, 'M', 2000.0)\n"
     ]
    }
   ],
   "source": [
    "sql = \"\"\" select *  from Employee \"\"\"\n",
    "cursor.execute(sql)\n",
    "for i in cursor:\n",
    "    print(i)"
   ]
  },
  {
   "cell_type": "code",
   "execution_count": null,
   "id": "54f52f67",
   "metadata": {},
   "outputs": [],
   "source": []
  }
 ],
 "metadata": {
  "kernelspec": {
   "display_name": "Python 3",
   "language": "python",
   "name": "python3"
  },
  "language_info": {
   "codemirror_mode": {
    "name": "ipython",
    "version": 3
   },
   "file_extension": ".py",
   "mimetype": "text/x-python",
   "name": "python",
   "nbconvert_exporter": "python",
   "pygments_lexer": "ipython3",
   "version": "3.6.9"
  }
 },
 "nbformat": 4,
 "nbformat_minor": 5
}
